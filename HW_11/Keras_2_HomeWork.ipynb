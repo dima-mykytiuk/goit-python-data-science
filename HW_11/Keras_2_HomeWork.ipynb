{
  "nbformat": 4,
  "nbformat_minor": 0,
  "metadata": {
    "colab": {
      "provenance": []
    },
    "kernelspec": {
      "name": "python3",
      "display_name": "Python 3"
    },
    "language_info": {
      "name": "python"
    }
  },
  "cells": [
    {
      "cell_type": "code",
      "execution_count": null,
      "metadata": {
        "id": "VuYLqRB430O0"
      },
      "outputs": [],
      "source": [
        "from tensorflow import keras\n",
        "import tensorflow as tf\n",
        "from keras.datasets import fashion_mnist\n",
        "from keras.models import Sequential\n",
        "from keras.layers import Dense, Flatten, Dropout\n",
        "from keras import layers\n",
        "import numpy as np\n",
        "import matplotlib.pyplot as plt\n",
        "from tensorflow.keras.utils import to_categorical"
      ]
    },
    {
      "cell_type": "code",
      "source": [
        "(x_train, y_train), (x_test, y_test) = fashion_mnist.load_data()\n",
        "\n",
        "x_train = x_train / 255\n",
        "x_test = x_test / 255\n",
        "\n",
        "y_train = to_categorical(y_train, 10)\n",
        "y_test = to_categorical(y_test, 10)"
      ],
      "metadata": {
        "id": "dggT09qM31O_"
      },
      "execution_count": null,
      "outputs": []
    },
    {
      "cell_type": "code",
      "source": [
        "model = Sequential([\n",
        "    layers.Conv2D(64, (3, 3), activation=\"relu\", input_shape=(28, 28, 1)),\n",
        "    layers.MaxPooling2D((2, 2), padding='same'),\n",
        "\n",
        "    layers.Conv2D(128, (3, 3), activation=\"relu\"),\n",
        "    layers.MaxPooling2D((2, 2), padding='same'),\n",
        "\n",
        "    layers.Conv2D(128, (3, 3), activation=\"relu\"),\n",
        "\n",
        "    layers.Flatten(),\n",
        "    layers.Dense(128, activation=\"relu\"),\n",
        "    layers.Dense(256, activation=\"relu\"),\n",
        "    layers.Dropout(0.8),\n",
        "\n",
        "    layers.Dense(10, activation=\"softmax\")\n",
        "])"
      ],
      "metadata": {
        "id": "QxZZDp0U32kl"
      },
      "execution_count": null,
      "outputs": []
    },
    {
      "cell_type": "code",
      "source": [
        "model.compile(\n",
        "    optimizer='Adam',\n",
        "    loss=tf.losses.CategoricalCrossentropy(),\n",
        "    metrics=['accuracy']\n",
        ")"
      ],
      "metadata": {
        "id": "YoJPhWoM328H"
      },
      "execution_count": null,
      "outputs": []
    },
    {
      "cell_type": "code",
      "source": [
        "model.summary()"
      ],
      "metadata": {
        "id": "SdxLVm-X32_H",
        "colab": {
          "base_uri": "https://localhost:8080/"
        },
        "outputId": "4f872e5f-f993-428b-a178-52ae86cde94b"
      },
      "execution_count": null,
      "outputs": [
        {
          "output_type": "stream",
          "name": "stdout",
          "text": [
            "Model: \"sequential\"\n",
            "_________________________________________________________________\n",
            " Layer (type)                Output Shape              Param #   \n",
            "=================================================================\n",
            " conv2d (Conv2D)             (None, 26, 26, 64)        640       \n",
            "                                                                 \n",
            " max_pooling2d (MaxPooling2D  (None, 13, 13, 64)       0         \n",
            " )                                                               \n",
            "                                                                 \n",
            " conv2d_1 (Conv2D)           (None, 11, 11, 128)       73856     \n",
            "                                                                 \n",
            " max_pooling2d_1 (MaxPooling  (None, 6, 6, 128)        0         \n",
            " 2D)                                                             \n",
            "                                                                 \n",
            " conv2d_2 (Conv2D)           (None, 4, 4, 128)         147584    \n",
            "                                                                 \n",
            " flatten (Flatten)           (None, 2048)              0         \n",
            "                                                                 \n",
            " dense (Dense)               (None, 128)               262272    \n",
            "                                                                 \n",
            " dense_1 (Dense)             (None, 256)               33024     \n",
            "                                                                 \n",
            " dropout (Dropout)           (None, 256)               0         \n",
            "                                                                 \n",
            " dense_2 (Dense)             (None, 10)                2570      \n",
            "                                                                 \n",
            "=================================================================\n",
            "Total params: 519,946\n",
            "Trainable params: 519,946\n",
            "Non-trainable params: 0\n",
            "_________________________________________________________________\n"
          ]
        }
      ]
    },
    {
      "cell_type": "code",
      "source": [
        "x_val = x_train[:30000]\n",
        "partial_x_train = x_train[30000:]\n",
        "\n",
        "y_val = y_train[:30000]\n",
        "partial_y_train = y_train[30000:]"
      ],
      "metadata": {
        "id": "IDl2LHHT33Bu"
      },
      "execution_count": null,
      "outputs": []
    },
    {
      "cell_type": "code",
      "source": [
        "history = model.fit(\n",
        "    partial_x_train,\n",
        "    partial_y_train,\n",
        "    epochs=10,\n",
        "    batch_size=128,\n",
        "    validation_data=(x_val, y_val)\n",
        ")"
      ],
      "metadata": {
        "id": "2VU03si933Eb",
        "colab": {
          "base_uri": "https://localhost:8080/"
        },
        "outputId": "f63d85be-1005-461e-db14-7200ba3fff96"
      },
      "execution_count": null,
      "outputs": [
        {
          "output_type": "stream",
          "name": "stdout",
          "text": [
            "Epoch 1/10\n",
            "235/235 [==============================] - 106s 444ms/step - loss: 0.9064 - accuracy: 0.6662 - val_loss: 0.4813 - val_accuracy: 0.8099\n",
            "Epoch 2/10\n",
            "235/235 [==============================] - 96s 408ms/step - loss: 0.5076 - accuracy: 0.8190 - val_loss: 0.3952 - val_accuracy: 0.8540\n",
            "Epoch 3/10\n",
            "235/235 [==============================] - 95s 404ms/step - loss: 0.4164 - accuracy: 0.8558 - val_loss: 0.3291 - val_accuracy: 0.8805\n",
            "Epoch 4/10\n",
            "235/235 [==============================] - 95s 404ms/step - loss: 0.3547 - accuracy: 0.8781 - val_loss: 0.3140 - val_accuracy: 0.8843\n",
            "Epoch 5/10\n",
            "235/235 [==============================] - 95s 403ms/step - loss: 0.3155 - accuracy: 0.8926 - val_loss: 0.2849 - val_accuracy: 0.8970\n",
            "Epoch 6/10\n",
            "235/235 [==============================] - 95s 404ms/step - loss: 0.2854 - accuracy: 0.9016 - val_loss: 0.2693 - val_accuracy: 0.9030\n",
            "Epoch 7/10\n",
            "235/235 [==============================] - 94s 402ms/step - loss: 0.2591 - accuracy: 0.9102 - val_loss: 0.2709 - val_accuracy: 0.9042\n",
            "Epoch 8/10\n",
            "235/235 [==============================] - 94s 401ms/step - loss: 0.2424 - accuracy: 0.9182 - val_loss: 0.2672 - val_accuracy: 0.9046\n",
            "Epoch 9/10\n",
            "235/235 [==============================] - 94s 402ms/step - loss: 0.2209 - accuracy: 0.9243 - val_loss: 0.2612 - val_accuracy: 0.9089\n",
            "Epoch 10/10\n",
            "235/235 [==============================] - 94s 402ms/step - loss: 0.1975 - accuracy: 0.9315 - val_loss: 0.2634 - val_accuracy: 0.9090\n"
          ]
        }
      ]
    },
    {
      "cell_type": "code",
      "source": [
        "scores = model.evaluate(x_test, y_test)"
      ],
      "metadata": {
        "id": "y9DEjMUN33Gv",
        "colab": {
          "base_uri": "https://localhost:8080/"
        },
        "outputId": "0b494015-b083-4353-c0a9-d207109dbf56"
      },
      "execution_count": null,
      "outputs": [
        {
          "output_type": "stream",
          "name": "stdout",
          "text": [
            "313/313 [==============================] - 7s 22ms/step - loss: 0.2820 - accuracy: 0.9047\n"
          ]
        }
      ]
    },
    {
      "cell_type": "markdown",
      "source": [
        "Точность сверточной нейросети выше, чем в предыдущем ДЗ"
      ],
      "metadata": {
        "id": "lsHg-eaiEBDB"
      }
    },
    {
      "cell_type": "code",
      "source": [
        "plt.imshow(x_test[0].reshape(28, 28), cmap=plt.cm.binary)\n",
        "plt.show()"
      ],
      "metadata": {
        "id": "PxzQAhqv33K2",
        "colab": {
          "base_uri": "https://localhost:8080/",
          "height": 265
        },
        "outputId": "a72c2da6-ee31-4e9b-f206-1edaae43e22c"
      },
      "execution_count": null,
      "outputs": [
        {
          "output_type": "display_data",
          "data": {
            "text/plain": [
              "<Figure size 432x288 with 1 Axes>"
            ],
            "image/png": "[encoded data removed]"
          },
          "metadata": {
            "needs_background": "light"
          }
        }
      ]
    },
    {
      "cell_type": "code",
      "source": [
        "image = x_test[0]\n",
        "image = (np.expand_dims(image,0))\n",
        "image.shape"
      ],
      "metadata": {
        "id": "TbnoiAQX4CpQ",
        "colab": {
          "base_uri": "https://localhost:8080/"
        },
        "outputId": "6b821fc5-7b61-41a1-ecc6-fa0b31a5bc45"
      },
      "execution_count": null,
      "outputs": [
        {
          "output_type": "execute_result",
          "data": {
            "text/plain": [
              "(1, 28, 28)"
            ]
          },
          "metadata": {},
          "execution_count": 10
        }
      ]
    },
    {
      "cell_type": "code",
      "source": [
        "predictions = model.predict(image)\n",
        "predictions"
      ],
      "metadata": {
        "id": "sngdHmHg4EkF",
        "colab": {
          "base_uri": "https://localhost:8080/"
        },
        "outputId": "2913b4b2-2bd0-44d8-cdc9-fd3a6ce94621"
      },
      "execution_count": null,
      "outputs": [
        {
          "output_type": "execute_result",
          "data": {
            "text/plain": [
              "array([[6.7388359e-11, 8.6274521e-12, 1.7420879e-12, 1.2220732e-11,\n",
              "        2.3224162e-11, 2.8180574e-07, 3.2926505e-11, 1.1266491e-06,\n",
              "        1.3343263e-10, 9.9999857e-01]], dtype=float32)"
            ]
          },
          "metadata": {},
          "execution_count": 11
        }
      ]
    },
    {
      "cell_type": "code",
      "source": [
        "prediction = predictions[0]\n",
        "np.argmax(prediction)"
      ],
      "metadata": {
        "id": "XmvbPSW-4Em2",
        "colab": {
          "base_uri": "https://localhost:8080/"
        },
        "outputId": "94962788-c884-4169-8f19-7292ddc005f1"
      },
      "execution_count": null,
      "outputs": [
        {
          "output_type": "execute_result",
          "data": {
            "text/plain": [
              "9"
            ]
          },
          "metadata": {},
          "execution_count": 12
        }
      ]
    },
    {
      "cell_type": "code",
      "source": [
        "history_dict = history.history\n",
        "loss_values = history_dict['loss']\n",
        "val_loss_values = history_dict['val_loss']\n",
        "\n",
        "epochs = range(1, len(history_dict['accuracy']) + 1)\n",
        "\n",
        "plt.plot(epochs, loss_values, 'bo', label='Training loss')\n",
        "plt.plot(epochs, val_loss_values, 'b', label='Validation loss')\n",
        "plt.title('Training and validation loss')\n",
        "plt.xlabel('Epochs')\n",
        "plt.ylabel('Loss')\n",
        "plt.legend()\n",
        "plt.show()\n",
        "\n",
        "plt.clf()\n",
        "val_acc_values = history_dict['val_accuracy']\n",
        "plt.plot(epochs, history_dict['accuracy'], 'bo', label='Training acc')\n",
        "plt.plot(epochs, history_dict['val_accuracy'], 'b', label='Validation acc')\n",
        "plt.title('Training and validation accuracy')\n",
        "plt.xlabel('Epochs')\n",
        "plt.ylabel('Loss')\n",
        "plt.legend()"
      ],
      "metadata": {
        "colab": {
          "base_uri": "https://localhost:8080/",
          "height": 590
        },
        "id": "L9FVuPf7zOQe",
        "outputId": "4a39bf5e-ddd1-4af9-ba2b-276939a8eaed"
      },
      "execution_count": null,
      "outputs": [
        {
          "output_type": "display_data",
          "data": {
            "text/plain": [
              "<Figure size 432x288 with 1 Axes>"
            ],
            "image/png": "[encoded data removed]"
          },
          "metadata": {
            "needs_background": "light"
          }
        },
        {
          "output_type": "execute_result",
          "data": {
            "text/plain": [
              "<matplotlib.legend.Legend at 0x7efcd889b610>"
            ]
          },
          "metadata": {},
          "execution_count": 13
        },
        {
          "output_type": "display_data",
          "data": {
            "text/plain": [
              "<Figure size 432x288 with 1 Axes>"
            ],
            "image/png": "[encoded data removed]"
          },
          "metadata": {
            "needs_background": "light"
          }
        }
      ]
    }
  ]
}