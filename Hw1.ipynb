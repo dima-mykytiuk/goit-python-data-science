{
 "cells": [
  {
   "cell_type": "code",
   "execution_count": 262,
   "id": "61b108c6",
   "metadata": {},
   "outputs": [],
   "source": [
    "import numpy as np"
   ]
  },
  {
   "cell_type": "markdown",
   "id": "d04e73ef",
   "metadata": {},
   "source": [
    "# 1. Вкладчик положил 50000 условных единиц на три разных счета в три разных банка. По первому счету выплаты составят 5% годовых, по второму – 7% годовых и по третьему 6% годовых. Известно, что через год вкладчик получил по процентам сумму в 2250 у.е. с первого и второго банка и сумму в 1400 у.е. с первого и третьего банка. Сколько условных единиц он положил на каждый счет изначально?\n",
    "bank_1 + bank_2 + bank_3 = 50000                                                                                   \n",
    "0.05 + 0.07 + 0 = 2250                                                                                             \n",
    "0.05 + 0 + 0.06 = 1400"
   ]
  },
  {
   "cell_type": "code",
   "execution_count": 263,
   "id": "395857e2",
   "metadata": {},
   "outputs": [
    {
     "name": "stdout",
     "output_type": "stream",
     "text": [
      "[[10000.]\n",
      " [25000.]\n",
      " [15000.]]\n"
     ]
    }
   ],
   "source": [
    "a = np.matrix(\"1,1,1;0.05,0.07,0;0.05,0,0.06\")\n",
    "b = np.matrix(\"50000;2250;1400\")\n",
    "a_inv = np.linalg.inv(a)\n",
    "x = a_inv.dot(b)\n",
    "print(x)"
   ]
  },
  {
   "cell_type": "code",
   "execution_count": 264,
   "id": "77293de2",
   "metadata": {},
   "outputs": [
    {
     "name": "stdout",
     "output_type": "stream",
     "text": [
      "[[10000.]\n",
      " [25000.]\n",
      " [15000.]]\n"
     ]
    }
   ],
   "source": [
    "a = np.matrix(\"1,1,1;0.05,0.07,0;0.05,0,0.06\")\n",
    "b = np.matrix(\"50000;2250;1400\")\n",
    "a_det = round(np.linalg.det(a))\n",
    "x = np.linalg.solve(a, b)\n",
    "print(x)"
   ]
  },
  {
   "cell_type": "markdown",
   "id": "c56e20bb",
   "metadata": {},
   "source": [
    "# We cant use method Cramer because of determinant = Zero"
   ]
  },
  {
   "cell_type": "code",
   "execution_count": 265,
   "id": "47f2b22b",
   "metadata": {},
   "outputs": [],
   "source": [
    "# a = np.matrix(\"1,1,1;0.05,0.07,0;0.05,0,0.06\")\n",
    "# b = np.matrix(\"50000;2250;1400\")\n",
    "# a_det = round(np.linalg.det(a))\n",
    "# a_1 = np.matrix(a)\n",
    "# a_1[:, 0] = b\n",
    "# a_2 = np.matrix(a)\n",
    "# a_2[:, 1] = b\n",
    "# a_3 = np.matrix(a)\n",
    "# a_3[:, 2] = b\n",
    "# x = [\n",
    "#     round(np.linalg.det(a_1)) / a_det,\n",
    "#     round(np.linalg.det(a_2)) / a_det,\n",
    "#     round(np.linalg.det(a_3)) / a_det,\n",
    "# ]\n",
    "# print(x)"
   ]
  },
  {
   "cell_type": "markdown",
   "id": "91f0380a",
   "metadata": {},
   "source": [
    "# 2. На складе хранятся мобильные телефоны iPhone 6, iPhone 11, iPhone 12 моделей. Всего 1328 экземпляра. Моделей iPhone 6 на 120 меньше, чем моделей iPhone 11, и на 100 больше, чем моделей iPhone 12. Сколько моделей каждого вида на складе?\n",
    "iPhone_6 + iPhone_11 + iPhone_12 = 1328                                                                             \n",
    "iPhone_6 - iPhone_11 + iPhone_12 = 120                                                                             \n",
    "iPhone_6 + iPhone_11 - iPhone_12 = 100                                                                             "
   ]
  },
  {
   "cell_type": "code",
   "execution_count": 266,
   "id": "53fb9925",
   "metadata": {},
   "outputs": [
    {
     "name": "stdout",
     "output_type": "stream",
     "text": [
      "[[436.]\n",
      " [556.]\n",
      " [336.]]\n"
     ]
    }
   ],
   "source": [
    "a = np.matrix(\"1,1,1;1,-1,0;1,0,-1\")\n",
    "b = np.matrix(\"1328;-120;100\")\n",
    "a_inv = np.linalg.inv(a)\n",
    "x = a_inv.dot(b)\n",
    "print(x)"
   ]
  },
  {
   "cell_type": "code",
   "execution_count": 267,
   "id": "55ce337f",
   "metadata": {},
   "outputs": [
    {
     "name": "stdout",
     "output_type": "stream",
     "text": [
      "[[436.]\n",
      " [556.]\n",
      " [336.]]\n"
     ]
    }
   ],
   "source": [
    "a = np.matrix(\"1,1,1;1,-1,0;1,0,-1\")\n",
    "b = np.matrix(\"1328;-120;100\")\n",
    "a_det = round(np.linalg.det(a))\n",
    "x = np.linalg.solve(a, b)\n",
    "print(x)"
   ]
  },
  {
   "cell_type": "code",
   "execution_count": 268,
   "id": "4c94faca",
   "metadata": {},
   "outputs": [
    {
     "name": "stdout",
     "output_type": "stream",
     "text": [
      "[436.0, 556.0, 336.0]\n"
     ]
    }
   ],
   "source": [
    "a = np.matrix(\"1,1,1;1,-1,0;1,0,-1\")\n",
    "b = np.matrix(\"1328;-120;100\")\n",
    "a_det = round(np.linalg.det(a))\n",
    "a_1 = np.matrix(a)\n",
    "a_1[:, 0] = b\n",
    "a_2 = np.matrix(a)\n",
    "a_2[:, 1] = b\n",
    "a_3 = np.matrix(a)\n",
    "a_3[:, 2] = b\n",
    "x = [\n",
    "    round(np.linalg.det(a_1)) / a_det,\n",
    "    round(np.linalg.det(a_2)) / a_det,\n",
    "    round(np.linalg.det(a_3)) / a_det,\n",
    "]\n",
    "print(x)"
   ]
  },
  {
   "cell_type": "markdown",
   "id": "c2ea02c3",
   "metadata": {},
   "source": [
    "# 3. Составьте каноническое уравнение эллипсоида, проходящего через три точки A,B,C. \n",
    "A(sqrt(3); 0; sqrt(3) B(sqrt(6); 0.5; 0) C(1; 1/sqrt(3); 1) \n",
    "Каноническое уравнение эллипсоида в прямоугольной декартовой системе координат имеет вид:\n",
    "x*2/a*2 + y*2/b*2 + z*2/c*2                                                                                         \n",
    "3/a*2 + 3/c*2 = 1                                                                                                   \n",
    "6/a*2 + 1/4/b*2 = 1                                                                                                 \n",
    "1/a*2 + 1/3/b*2 + 1/c*2 = 1                                                                                         \n",
    "\n",
    "q = 1/a*2                                                                                                           \n",
    "w = 1/b*2                                                                                                           \n",
    "e = 1/c*2                                                                                                           \n",
    "\n",
    "3q + 3e = 1                                                                                                         \n",
    "6q + 1/4w = 1                                                                                                       \n",
    "q + 1/3w + e = 1                                                                                                   "
   ]
  },
  {
   "cell_type": "code",
   "execution_count": 269,
   "id": "6e00605b",
   "metadata": {},
   "outputs": [
    {
     "name": "stdout",
     "output_type": "stream",
     "text": [
      "[0.08249158 2.02020202 0.25084175]\n"
     ]
    }
   ],
   "source": [
    "a = np.array([[3, 0, 3], [6, 0.25, 0], [1, 0.33, 1]])\n",
    "b = np.array([1, 1, 1])\n",
    "a_det = round(np.linalg.det(a))\n",
    "x = np.linalg.solve(a, b)\n",
    "print(x)"
   ]
  },
  {
   "cell_type": "code",
   "execution_count": 270,
   "id": "f32d9b83",
   "metadata": {},
   "outputs": [
    {
     "name": "stdout",
     "output_type": "stream",
     "text": [
      "(3.4817307448439827, -3.4817307448439827)\n",
      "(0.7035623639735145, -0.7035623639735145)\n",
      "(1.9966414753801076, -1.9966414753801076)\n"
     ]
    }
   ],
   "source": [
    "a = (1/np.sqrt(x[0]), -1/np.sqrt(x[0]))\n",
    "b = (1/np.sqrt(x[1]), -1/np.sqrt(x[1]))\n",
    "c = (1/np.sqrt(x[2]), -1/np.sqrt(x[2]))\n",
    "\n",
    "print(a)\n",
    "print(b)\n",
    "print(c)"
   ]
  },
  {
   "cell_type": "markdown",
   "id": "98f90fa8",
   "metadata": {},
   "source": [
    "# 4. Составьте уравнение параболы проходящей через заданные три точки (1,12), (3,54), (-1,2). Необходимо найти коэффициенты уравнения a,b,c.\n",
    "y = a*x*2 + b*x + c                                                                                                 \n",
    "12 = x1 + x2 + x3                                                                                                   \n",
    "54 = 9x1 + 3x2 + x3                                                                                                 \n",
    "2 = x1 - x2 + x3                                                                                                   "
   ]
  },
  {
   "cell_type": "code",
   "execution_count": 271,
   "id": "6482b091",
   "metadata": {},
   "outputs": [
    {
     "name": "stdout",
     "output_type": "stream",
     "text": [
      "[[4.]\n",
      " [5.]\n",
      " [3.]]\n"
     ]
    }
   ],
   "source": [
    "a = np.matrix(\"1,1,1;9,3,1;1,-1,1\")\n",
    "b = np.matrix(\"12;54;2\")\n",
    "a_det = round(np.linalg.det(a))\n",
    "x = np.linalg.solve(a, b)\n",
    "print(x)"
   ]
  },
  {
   "cell_type": "markdown",
   "id": "156af220",
   "metadata": {},
   "source": [
    "# 5. Составьте функцию get_polynom, которая по набору точек вида (x1,y1),(x2,y2),…,(xn+1,yn+1) будет находить коэффициенты многочлена c.\n",
    " "
   ]
  },
  {
   "cell_type": "markdown",
   "id": "b56dbb1e",
   "metadata": {},
   "source": [
    "y = a * x * 2 + b * x + c"
   ]
  },
  {
   "cell_type": "code",
   "execution_count": 272,
   "id": "d41b0bc2",
   "metadata": {},
   "outputs": [],
   "source": [
    "def get_polynom(coords):\n",
    "    b = np.array([])\n",
    "    list_of_x_items = []\n",
    "    for x, y in coords:\n",
    "        array = [x ** i for i in reversed(range(len(coords)))]\n",
    "        list_of_x_items.append(array)\n",
    "        b = np.append(b, y)\n",
    "    a = np.array(list_of_x_items)\n",
    "    return np.round(np.linalg.solve(a, b))"
   ]
  },
  {
   "cell_type": "code",
   "execution_count": 273,
   "id": "bb25291c",
   "metadata": {},
   "outputs": [
    {
     "name": "stdout",
     "output_type": "stream",
     "text": [
      "[ -0.   0.   1.  -1. -14.  24.]\n"
     ]
    }
   ],
   "source": [
    "print(get_polynom([(1, 10), (2, 0), (3, 0), (4, 16), (5, 54), (6, 120)]))"
   ]
  }
 ],
 "metadata": {
  "kernelspec": {
   "display_name": "Python 3",
   "language": "python",
   "name": "python3"
  },
  "language_info": {
   "codemirror_mode": {
    "name": "ipython",
    "version": 3
   },
   "file_extension": ".py",
   "mimetype": "text/x-python",
   "name": "python",
   "nbconvert_exporter": "python",
   "pygments_lexer": "ipython3",
   "version": "3.8.8"
  }
 },
 "nbformat": 4,
 "nbformat_minor": 5
}
