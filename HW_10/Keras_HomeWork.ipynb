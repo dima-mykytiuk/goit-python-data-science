{
  "nbformat": 4,
  "nbformat_minor": 0,
  "metadata": {
    "colab": {
      "provenance": []
    },
    "kernelspec": {
      "name": "python3",
      "display_name": "Python 3"
    },
    "language_info": {
      "name": "python"
    }
  },
  "cells": [
    {
      "cell_type": "code",
      "execution_count": null,
      "metadata": {
        "id": "jsntrXWVdkvF"
      },
      "outputs": [],
      "source": [
        "from tensorflow import keras\n",
        "import tensorflow as tf\n",
        "from keras.datasets import fashion_mnist\n",
        "from keras.models import Sequential\n",
        "from keras.layers import Dense, Flatten\n",
        "import numpy as np\n",
        "import matplotlib.pyplot as plt"
      ]
    },
    {
      "cell_type": "code",
      "source": [
        "(x_train, y_train), (x_test, y_test) = fashion_mnist.load_data()\n",
        "\n",
        "x_train = x_train / 255\n",
        "x_test = x_test / 255"
      ],
      "metadata": {
        "id": "cW_eYNaass1-"
      },
      "execution_count": null,
      "outputs": []
    },
    {
      "cell_type": "code",
      "source": [
        "model = Sequential([\n",
        "    Flatten(input_shape=(28,28)),\n",
        "    Dense(256, activation='relu'),\n",
        "    Dense(512, activation='relu'),\n",
        "    Dense(10, activation='softmax'),\n",
        "])"
      ],
      "metadata": {
        "id": "jcywfaUls9x4"
      },
      "execution_count": null,
      "outputs": []
    },
    {
      "cell_type": "code",
      "source": [
        "model.compile(\n",
        "    optimizer='Adam',\n",
        "    loss=tf.losses.SparseCategoricalCrossentropy(from_logits=True),\n",
        "    metrics=['accuracy']\n",
        ")"
      ],
      "metadata": {
        "id": "N-Wp-lYKtRUa"
      },
      "execution_count": null,
      "outputs": []
    },
    {
      "cell_type": "code",
      "source": [
        "model.summary()"
      ],
      "metadata": {
        "colab": {
          "base_uri": "https://localhost:8080/"
        },
        "id": "o4aFP4yZ531L",
        "outputId": "5309f473-939e-49db-8c69-cf95c6730596"
      },
      "execution_count": null,
      "outputs": [
        {
          "output_type": "stream",
          "name": "stdout",
          "text": [
            "Model: \"sequential\"\n",
            "_________________________________________________________________\n",
            " Layer (type)                Output Shape              Param #   \n",
            "=================================================================\n",
            " flatten (Flatten)           (None, 784)               0         \n",
            "                                                                 \n",
            " dense (Dense)               (None, 256)               200960    \n",
            "                                                                 \n",
            " dense_1 (Dense)             (None, 512)               131584    \n",
            "                                                                 \n",
            " dense_2 (Dense)             (None, 10)                5130      \n",
            "                                                                 \n",
            "=================================================================\n",
            "Total params: 337,674\n",
            "Trainable params: 337,674\n",
            "Non-trainable params: 0\n",
            "_________________________________________________________________\n"
          ]
        }
      ]
    },
    {
      "cell_type": "code",
      "source": [
        "x_val = x_train[:30000]\n",
        "partial_x_train = x_train[30000:]\n",
        "\n",
        "y_val = y_train[:30000]\n",
        "partial_y_train = y_train[30000:]"
      ],
      "metadata": {
        "id": "CzJlFF2T05j4"
      },
      "execution_count": null,
      "outputs": []
    },
    {
      "cell_type": "code",
      "source": [
        "history = model.fit(\n",
        "    partial_x_train,\n",
        "    partial_y_train,\n",
        "    epochs=25,\n",
        "    batch_size=512,\n",
        "    validation_data=(x_val, y_val)\n",
        ")"
      ],
      "metadata": {
        "colab": {
          "base_uri": "https://localhost:8080/"
        },
        "id": "H7xh8j4itTmj",
        "outputId": "ac2cc827-5c91-4bd6-f66c-8064a802798c"
      },
      "execution_count": null,
      "outputs": [
        {
          "output_type": "stream",
          "name": "stdout",
          "text": [
            "Epoch 1/25\n"
          ]
        },
        {
          "output_type": "stream",
          "name": "stderr",
          "text": [
            "/usr/local/lib/python3.7/dist-packages/tensorflow/python/util/dispatch.py:1082: UserWarning: \"`sparse_categorical_crossentropy` received `from_logits=True`, but the `output` argument was produced by a sigmoid or softmax activation and thus does not represent logits. Was this intended?\"\n",
            "  return dispatch_target(*args, **kwargs)\n"
          ]
        },
        {
          "output_type": "stream",
          "name": "stdout",
          "text": [
            "59/59 [==============================] - 6s 80ms/step - loss: 0.7253 - accuracy: 0.7580 - val_loss: 0.4936 - val_accuracy: 0.8314\n",
            "Epoch 2/25\n",
            "59/59 [==============================] - 4s 70ms/step - loss: 0.4539 - accuracy: 0.8400 - val_loss: 0.4432 - val_accuracy: 0.8451\n",
            "Epoch 3/25\n",
            "59/59 [==============================] - 4s 67ms/step - loss: 0.3981 - accuracy: 0.8596 - val_loss: 0.4035 - val_accuracy: 0.8576\n",
            "Epoch 4/25\n",
            "59/59 [==============================] - 4s 67ms/step - loss: 0.3686 - accuracy: 0.8688 - val_loss: 0.3839 - val_accuracy: 0.8650\n",
            "Epoch 5/25\n",
            "59/59 [==============================] - 4s 62ms/step - loss: 0.3464 - accuracy: 0.8777 - val_loss: 0.3618 - val_accuracy: 0.8706\n",
            "Epoch 6/25\n",
            "59/59 [==============================] - 3s 59ms/step - loss: 0.3148 - accuracy: 0.8865 - val_loss: 0.3555 - val_accuracy: 0.8714\n",
            "Epoch 7/25\n",
            "59/59 [==============================] - 2s 35ms/step - loss: 0.3022 - accuracy: 0.8914 - val_loss: 0.3400 - val_accuracy: 0.8788\n",
            "Epoch 8/25\n",
            "59/59 [==============================] - 2s 35ms/step - loss: 0.2880 - accuracy: 0.8960 - val_loss: 0.3437 - val_accuracy: 0.8773\n",
            "Epoch 9/25\n",
            "59/59 [==============================] - 2s 35ms/step - loss: 0.2734 - accuracy: 0.9017 - val_loss: 0.3470 - val_accuracy: 0.8705\n",
            "Epoch 10/25\n",
            "59/59 [==============================] - 2s 34ms/step - loss: 0.2614 - accuracy: 0.9051 - val_loss: 0.3516 - val_accuracy: 0.8760\n",
            "Epoch 11/25\n",
            "59/59 [==============================] - 2s 34ms/step - loss: 0.2619 - accuracy: 0.9062 - val_loss: 0.3366 - val_accuracy: 0.8804\n",
            "Epoch 12/25\n",
            "59/59 [==============================] - 2s 35ms/step - loss: 0.2492 - accuracy: 0.9098 - val_loss: 0.3344 - val_accuracy: 0.8818\n",
            "Epoch 13/25\n",
            "59/59 [==============================] - 2s 34ms/step - loss: 0.2356 - accuracy: 0.9141 - val_loss: 0.3373 - val_accuracy: 0.8813\n",
            "Epoch 14/25\n",
            "59/59 [==============================] - 2s 35ms/step - loss: 0.2202 - accuracy: 0.9202 - val_loss: 0.3671 - val_accuracy: 0.8698\n",
            "Epoch 15/25\n",
            "59/59 [==============================] - 2s 34ms/step - loss: 0.2203 - accuracy: 0.9197 - val_loss: 0.3336 - val_accuracy: 0.8800\n",
            "Epoch 16/25\n",
            "59/59 [==============================] - 2s 35ms/step - loss: 0.2022 - accuracy: 0.9269 - val_loss: 0.3399 - val_accuracy: 0.8844\n",
            "Epoch 17/25\n",
            "59/59 [==============================] - 2s 35ms/step - loss: 0.1950 - accuracy: 0.9297 - val_loss: 0.3260 - val_accuracy: 0.8866\n",
            "Epoch 18/25\n",
            "59/59 [==============================] - 2s 36ms/step - loss: 0.1835 - accuracy: 0.9328 - val_loss: 0.3519 - val_accuracy: 0.8777\n",
            "Epoch 19/25\n",
            "59/59 [==============================] - 2s 34ms/step - loss: 0.1833 - accuracy: 0.9329 - val_loss: 0.3399 - val_accuracy: 0.8840\n",
            "Epoch 20/25\n",
            "59/59 [==============================] - 2s 35ms/step - loss: 0.1824 - accuracy: 0.9332 - val_loss: 0.3218 - val_accuracy: 0.8887\n",
            "Epoch 21/25\n",
            "59/59 [==============================] - 2s 34ms/step - loss: 0.1751 - accuracy: 0.9361 - val_loss: 0.3656 - val_accuracy: 0.8778\n",
            "Epoch 22/25\n",
            "59/59 [==============================] - 2s 34ms/step - loss: 0.1735 - accuracy: 0.9357 - val_loss: 0.3454 - val_accuracy: 0.8880\n",
            "Epoch 23/25\n",
            "59/59 [==============================] - 2s 34ms/step - loss: 0.1572 - accuracy: 0.9412 - val_loss: 0.3678 - val_accuracy: 0.8796\n",
            "Epoch 24/25\n",
            "59/59 [==============================] - 2s 34ms/step - loss: 0.1567 - accuracy: 0.9441 - val_loss: 0.3698 - val_accuracy: 0.8824\n",
            "Epoch 25/25\n",
            "59/59 [==============================] - 2s 34ms/step - loss: 0.1527 - accuracy: 0.9443 - val_loss: 0.3651 - val_accuracy: 0.8812\n"
          ]
        }
      ]
    },
    {
      "cell_type": "code",
      "source": [
        "scores = model.evaluate(x_test, y_test)"
      ],
      "metadata": {
        "colab": {
          "base_uri": "https://localhost:8080/"
        },
        "id": "j5imLEC84rQm",
        "outputId": "fc633a4e-a85c-4695-e2bd-471cbfe29e61"
      },
      "execution_count": null,
      "outputs": [
        {
          "output_type": "stream",
          "name": "stdout",
          "text": [
            "313/313 [==============================] - 1s 3ms/step - loss: 0.3863 - accuracy: 0.8755\n"
          ]
        }
      ]
    },
    {
      "cell_type": "code",
      "source": [
        "plt.imshow(x_test[0].reshape(28, 28), cmap=plt.cm.binary)\n",
        "plt.show()"
      ],
      "metadata": {
        "colab": {
          "base_uri": "https://localhost:8080/",
          "height": 265
        },
        "id": "bX8eUdPh9V96",
        "outputId": "36f58974-5a47-46a6-fd1f-08c8f9661a5b"
      },
      "execution_count": null,
      "outputs": [
        {
          "output_type": "display_data",
          "data": {
            "text/plain": [
              "<Figure size 432x288 with 1 Axes>"
            ],
            "image/png": "[encoded data removed]"
          },
          "metadata": {
            "needs_background": "light"
          }
        }
      ]
    },
    {
      "cell_type": "code",
      "source": [
        "image = x_test[0]\n",
        "image = (np.expand_dims(image,0))\n",
        "image.shape"
      ],
      "metadata": {
        "colab": {
          "base_uri": "https://localhost:8080/"
        },
        "id": "DywvpRfu9pr2",
        "outputId": "5ff1e975-270a-40e7-c061-5c8d8bca2e68"
      },
      "execution_count": null,
      "outputs": [
        {
          "output_type": "execute_result",
          "data": {
            "text/plain": [
              "(1, 28, 28)"
            ]
          },
          "metadata": {},
          "execution_count": 10
        }
      ]
    },
    {
      "cell_type": "code",
      "source": [
        "predictions = model.predict(image)\n",
        "predictions"
      ],
      "metadata": {
        "colab": {
          "base_uri": "https://localhost:8080/"
        },
        "id": "3xHO-STn-WCy",
        "outputId": "7c31d1b5-f961-4d7e-e960-0e798253efec"
      },
      "execution_count": null,
      "outputs": [
        {
          "output_type": "execute_result",
          "data": {
            "text/plain": [
              "array([[1.2551801e-08, 3.9720976e-07, 1.3312285e-07, 3.8398422e-09,\n",
              "        1.6546492e-08, 1.8474853e-04, 5.7276505e-08, 4.2069629e-03,\n",
              "        4.8279355e-07, 9.9560720e-01]], dtype=float32)"
            ]
          },
          "metadata": {},
          "execution_count": 11
        }
      ]
    },
    {
      "cell_type": "code",
      "source": [
        "prediction = predictions[0]\n",
        "np.argmax(prediction)"
      ],
      "metadata": {
        "colab": {
          "base_uri": "https://localhost:8080/"
        },
        "id": "Me65ON9y-ki1",
        "outputId": "139f4324-34e6-4572-fc74-d8b1729aa4b4"
      },
      "execution_count": null,
      "outputs": [
        {
          "output_type": "execute_result",
          "data": {
            "text/plain": [
              "9"
            ]
          },
          "metadata": {},
          "execution_count": 12
        }
      ]
    }
  ]
}