{
  "nbformat": 4,
  "nbformat_minor": 0,
  "metadata": {
    "colab": {
      "provenance": []
    },
    "kernelspec": {
      "name": "python3",
      "display_name": "Python 3"
    },
    "language_info": {
      "name": "python"
    }
  },
  "cells": [
    {
      "cell_type": "code",
      "execution_count": null,
      "metadata": {
        "id": "0HwujueHjeHO"
      },
      "outputs": [],
      "source": [
        "from sklearn.datasets import load_iris\n",
        "from sklearn.multiclass import OneVsRestClassifier\n",
        "from sklearn.svm import SVC\n",
        "from sklearn.model_selection import train_test_split"
      ]
    },
    {
      "cell_type": "markdown",
      "source": [
        "# Classifier with default test_size(0,25)"
      ],
      "metadata": {
        "id": "dKE0pk6hlubT"
      }
    },
    {
      "cell_type": "code",
      "source": [
        "X, y = load_iris(return_X_y=True)"
      ],
      "metadata": {
        "id": "ztGiyQK0jk3v"
      },
      "execution_count": null,
      "outputs": []
    },
    {
      "cell_type": "code",
      "source": [
        "X_train, X_test, y_train, y_test = train_test_split(X, y, shuffle=True)"
      ],
      "metadata": {
        "id": "aeisnosSjwFN"
      },
      "execution_count": null,
      "outputs": []
    },
    {
      "cell_type": "code",
      "source": [
        "clf = OneVsRestClassifier(SVC()).fit(X_train, y_train)"
      ],
      "metadata": {
        "id": "EhnbvG0qka02"
      },
      "execution_count": null,
      "outputs": []
    },
    {
      "cell_type": "code",
      "source": [
        "clf.score(X_test, y_test)"
      ],
      "metadata": {
        "colab": {
          "base_uri": "https://localhost:8080/"
        },
        "id": "E7SGAbAFkmh0",
        "outputId": "23de3d92-7483-4525-9df9-0894eed44693"
      },
      "execution_count": null,
      "outputs": [
        {
          "output_type": "execute_result",
          "data": {
            "text/plain": [
              "0.9736842105263158"
            ]
          },
          "metadata": {},
          "execution_count": 23
        }
      ]
    },
    {
      "cell_type": "code",
      "source": [
        "y_pred = clf.predict(X_test)"
      ],
      "metadata": {
        "id": "ltHBqifhkwxk"
      },
      "execution_count": null,
      "outputs": []
    },
    {
      "cell_type": "code",
      "source": [
        "y_pred"
      ],
      "metadata": {
        "colab": {
          "base_uri": "https://localhost:8080/"
        },
        "id": "TVNTTo5pk5Mr",
        "outputId": "02c3e934-d1db-4a1b-a64a-19b18bbccf7b"
      },
      "execution_count": null,
      "outputs": [
        {
          "output_type": "execute_result",
          "data": {
            "text/plain": [
              "array([2, 1, 1, 0, 0, 0, 2, 2, 1, 2, 2, 0, 1, 2, 0, 2, 1, 1, 0, 0, 0, 0,\n",
              "       1, 0, 2, 1, 0, 1, 1, 2, 1, 1, 0, 1, 0, 2, 2, 0])"
            ]
          },
          "metadata": {},
          "execution_count": 25
        }
      ]
    },
    {
      "cell_type": "code",
      "source": [
        "y_test"
      ],
      "metadata": {
        "colab": {
          "base_uri": "https://localhost:8080/"
        },
        "id": "UnAmwvrSk671",
        "outputId": "954aa4dc-7332-4c48-d939-0e8cd08ec3e6"
      },
      "execution_count": null,
      "outputs": [
        {
          "output_type": "execute_result",
          "data": {
            "text/plain": [
              "array([2, 1, 1, 0, 0, 0, 2, 2, 1, 2, 2, 0, 1, 2, 0, 2, 1, 1, 0, 0, 0, 0,\n",
              "       1, 0, 2, 1, 0, 1, 1, 2, 1, 1, 0, 1, 0, 1, 2, 0])"
            ]
          },
          "metadata": {},
          "execution_count": 26
        }
      ]
    },
    {
      "cell_type": "markdown",
      "source": [
        "Comparing prediction with test data"
      ],
      "metadata": {
        "id": "JD8WisqEl3Z_"
      }
    },
    {
      "cell_type": "code",
      "source": [
        "y_pred == y_test"
      ],
      "metadata": {
        "colab": {
          "base_uri": "https://localhost:8080/"
        },
        "id": "B83wa8xck9oE",
        "outputId": "058a6841-b78d-4177-fb45-dcb6d433445f"
      },
      "execution_count": null,
      "outputs": [
        {
          "output_type": "execute_result",
          "data": {
            "text/plain": [
              "array([ True,  True,  True,  True,  True,  True,  True,  True,  True,\n",
              "        True,  True,  True,  True,  True,  True,  True,  True,  True,\n",
              "        True,  True,  True,  True,  True,  True,  True,  True,  True,\n",
              "        True,  True,  True,  True,  True,  True,  True,  True, False,\n",
              "        True,  True])"
            ]
          },
          "metadata": {},
          "execution_count": 27
        }
      ]
    },
    {
      "cell_type": "code",
      "source": [
        "y_test.shape - (y_pred == y_test).sum()"
      ],
      "metadata": {
        "colab": {
          "base_uri": "https://localhost:8080/"
        },
        "id": "-AqE6iqooScr",
        "outputId": "5b88fc6c-eede-4025-d944-a978fbf4f391"
      },
      "execution_count": null,
      "outputs": [
        {
          "output_type": "execute_result",
          "data": {
            "text/plain": [
              "array([1])"
            ]
          },
          "metadata": {},
          "execution_count": 28
        }
      ]
    },
    {
      "cell_type": "markdown",
      "source": [
        "Only 1 prediction is wrong"
      ],
      "metadata": {
        "id": "x6k1CIrfoatW"
      }
    },
    {
      "cell_type": "markdown",
      "source": [
        "# Classifier with test_size=0,50"
      ],
      "metadata": {
        "id": "WjbX9nf8mELs"
      }
    },
    {
      "cell_type": "code",
      "source": [
        "X_train_2, X_test_2, y_train_2, y_test_2 = train_test_split(X, y, test_size=0.50, shuffle=True)"
      ],
      "metadata": {
        "id": "2BdbIbfwlC-r"
      },
      "execution_count": null,
      "outputs": []
    },
    {
      "cell_type": "code",
      "source": [
        "clf_2 = OneVsRestClassifier(SVC()).fit(X_train_2, y_train_2)"
      ],
      "metadata": {
        "id": "hx0NgtH8lXLz"
      },
      "execution_count": null,
      "outputs": []
    },
    {
      "cell_type": "code",
      "source": [
        "clf_2.score(X_test_2, y_test_2)"
      ],
      "metadata": {
        "colab": {
          "base_uri": "https://localhost:8080/"
        },
        "id": "M_uX6FlflXOo",
        "outputId": "07732a49-23d5-4464-a05d-e399ac1a45e7"
      },
      "execution_count": null,
      "outputs": [
        {
          "output_type": "execute_result",
          "data": {
            "text/plain": [
              "0.9333333333333333"
            ]
          },
          "metadata": {},
          "execution_count": 31
        }
      ]
    },
    {
      "cell_type": "markdown",
      "source": [
        "Score went down with test_size 0.50"
      ],
      "metadata": {
        "id": "6Foztt9lmQVU"
      }
    },
    {
      "cell_type": "code",
      "source": [
        "y_pred_2 = clf_2.predict(X_test_2)"
      ],
      "metadata": {
        "id": "fVQ_XKHtlXRG"
      },
      "execution_count": null,
      "outputs": []
    },
    {
      "cell_type": "code",
      "source": [
        "y_pred_2"
      ],
      "metadata": {
        "colab": {
          "base_uri": "https://localhost:8080/"
        },
        "id": "NLMBuifelbQj",
        "outputId": "73d576da-1c05-4cfa-a65d-3534d711f033"
      },
      "execution_count": null,
      "outputs": [
        {
          "output_type": "execute_result",
          "data": {
            "text/plain": [
              "array([0, 0, 0, 1, 2, 0, 0, 1, 1, 2, 2, 1, 2, 0, 2, 2, 2, 1, 1, 2, 2, 2,\n",
              "       1, 1, 0, 0, 0, 2, 0, 0, 1, 1, 1, 1, 0, 2, 0, 0, 0, 2, 0, 1, 2, 0,\n",
              "       0, 1, 0, 2, 2, 0, 1, 2, 2, 0, 0, 0, 2, 1, 2, 1, 1, 2, 2, 2, 1, 0,\n",
              "       2, 2, 0, 1, 2, 0, 0, 1, 0])"
            ]
          },
          "metadata": {},
          "execution_count": 33
        }
      ]
    },
    {
      "cell_type": "code",
      "source": [
        "y_test_2"
      ],
      "metadata": {
        "colab": {
          "base_uri": "https://localhost:8080/"
        },
        "id": "jw6DHrimlbTe",
        "outputId": "54ff833a-7071-40cd-a757-9b35047f42a3"
      },
      "execution_count": null,
      "outputs": [
        {
          "output_type": "execute_result",
          "data": {
            "text/plain": [
              "array([0, 0, 0, 1, 2, 0, 0, 1, 2, 2, 2, 1, 2, 0, 2, 2, 2, 1, 1, 2, 2, 2,\n",
              "       1, 2, 0, 0, 0, 2, 0, 0, 1, 1, 2, 1, 0, 2, 0, 0, 0, 2, 0, 1, 2, 0,\n",
              "       0, 1, 0, 2, 1, 0, 1, 2, 2, 0, 0, 0, 1, 1, 2, 1, 1, 2, 2, 2, 1, 0,\n",
              "       2, 2, 0, 1, 2, 0, 0, 1, 0])"
            ]
          },
          "metadata": {},
          "execution_count": 34
        }
      ]
    },
    {
      "cell_type": "markdown",
      "source": [
        "Comparing prediction with test data"
      ],
      "metadata": {
        "id": "YKtc5vFCmA-i"
      }
    },
    {
      "cell_type": "code",
      "source": [
        "y_pred_2 == y_test_2"
      ],
      "metadata": {
        "colab": {
          "base_uri": "https://localhost:8080/"
        },
        "id": "RSfYcIkqlbl6",
        "outputId": "2ce70a9d-9952-42f8-c3f7-c613f3847a64"
      },
      "execution_count": null,
      "outputs": [
        {
          "output_type": "execute_result",
          "data": {
            "text/plain": [
              "array([ True,  True,  True,  True,  True,  True,  True,  True, False,\n",
              "        True,  True,  True,  True,  True,  True,  True,  True,  True,\n",
              "        True,  True,  True,  True,  True, False,  True,  True,  True,\n",
              "        True,  True,  True,  True,  True, False,  True,  True,  True,\n",
              "        True,  True,  True,  True,  True,  True,  True,  True,  True,\n",
              "        True,  True,  True, False,  True,  True,  True,  True,  True,\n",
              "        True,  True, False,  True,  True,  True,  True,  True,  True,\n",
              "        True,  True,  True,  True,  True,  True,  True,  True,  True,\n",
              "        True,  True,  True])"
            ]
          },
          "metadata": {},
          "execution_count": 35
        }
      ]
    },
    {
      "cell_type": "code",
      "source": [
        "y_test_2.shape - (y_pred_2 == y_test_2).sum()"
      ],
      "metadata": {
        "colab": {
          "base_uri": "https://localhost:8080/"
        },
        "id": "pBwnnaNjokzc",
        "outputId": "b6915e32-2544-4841-d00a-0e9c5dc510cc"
      },
      "execution_count": null,
      "outputs": [
        {
          "output_type": "execute_result",
          "data": {
            "text/plain": [
              "array([5])"
            ]
          },
          "metadata": {},
          "execution_count": 36
        }
      ]
    },
    {
      "cell_type": "markdown",
      "source": [
        "5 predictions are wrong"
      ],
      "metadata": {
        "id": "AGmUU8HPolt6"
      }
    }
  ]
}