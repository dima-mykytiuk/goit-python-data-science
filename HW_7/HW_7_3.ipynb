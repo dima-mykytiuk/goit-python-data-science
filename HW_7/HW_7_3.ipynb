{
  "nbformat": 4,
  "nbformat_minor": 0,
  "metadata": {
    "colab": {
      "provenance": []
    },
    "kernelspec": {
      "name": "python3",
      "display_name": "Python 3"
    },
    "language_info": {
      "name": "python"
    }
  },
  "cells": [
    {
      "cell_type": "code",
      "execution_count": null,
      "metadata": {
        "id": "qwdWWONJ8nvX"
      },
      "outputs": [],
      "source": [
        "from sklearn.datasets import load_diabetes\n",
        "from sklearn.linear_model import LinearRegression\n",
        "from sklearn import metrics\n",
        "from sklearn.model_selection import train_test_split\n",
        "import matplotlib.pyplot as plt"
      ]
    },
    {
      "cell_type": "code",
      "source": [
        "X, y = load_diabetes(return_X_y=True)"
      ],
      "metadata": {
        "id": "nAjcDaxv8yjD"
      },
      "execution_count": null,
      "outputs": []
    },
    {
      "cell_type": "markdown",
      "source": [
        "# Regressor with default test_size(0,25)"
      ],
      "metadata": {
        "id": "B3ICy-3lDSyh"
      }
    },
    {
      "cell_type": "code",
      "source": [
        "X_train, X_test, y_train, y_test = train_test_split(X, y, shuffle=True)"
      ],
      "metadata": {
        "id": "1iObRnmW9Hxv"
      },
      "execution_count": null,
      "outputs": []
    },
    {
      "cell_type": "code",
      "source": [
        "regressor = LinearRegression().fit(X_train, y_train)"
      ],
      "metadata": {
        "id": "GfqPuWwN9Rm_"
      },
      "execution_count": null,
      "outputs": []
    },
    {
      "cell_type": "code",
      "source": [
        "regressor.score(X_test, y_test)"
      ],
      "metadata": {
        "colab": {
          "base_uri": "https://localhost:8080/"
        },
        "id": "JHmLfFb49ckr",
        "outputId": "83501810-1c07-4f7e-a74c-b5cd26dfeee7"
      },
      "execution_count": null,
      "outputs": [
        {
          "output_type": "execute_result",
          "data": {
            "text/plain": [
              "0.47533210948729365"
            ]
          },
          "metadata": {},
          "execution_count": 150
        }
      ]
    },
    {
      "cell_type": "code",
      "source": [
        "y_pred = regressor.predict(X_test)"
      ],
      "metadata": {
        "id": "Av3GJ3pS9t1k"
      },
      "execution_count": null,
      "outputs": []
    },
    {
      "cell_type": "code",
      "source": [
        "y_test"
      ],
      "metadata": {
        "colab": {
          "base_uri": "https://localhost:8080/"
        },
        "id": "qew_ydob96a1",
        "outputId": "4423165b-87ed-469f-f0be-b9b59ffb3035"
      },
      "execution_count": null,
      "outputs": [
        {
          "output_type": "execute_result",
          "data": {
            "text/plain": [
              "array([ 85., 182.,  96.,  98., 243., 178.,  94., 108., 104., 156., 229.,\n",
              "       146., 222., 109., 242., 150., 214.,  40.,  66.,  84., 242.,  81.,\n",
              "       129., 177.,  71., 167., 268.,  72., 310., 148., 248.,  97., 196.,\n",
              "        96., 191.,  63.,  42.,  63., 131., 107., 262., 170., 181., 244.,\n",
              "       200.,  69., 257., 268., 259., 160., 210., 114., 163.,  70., 109.,\n",
              "       302., 196.,  71.,  90., 129.,  68.,  77., 252., 128., 101.,  53.,\n",
              "       144., 150., 109., 128., 230., 265., 122., 180.,  73., 237., 142.,\n",
              "       147., 270., 200., 232., 170., 190.,  94., 209.,  51.,  92., 151.,\n",
              "        71., 111., 288.,  72., 143., 179.,  57., 195.,  61., 125., 198.,\n",
              "       180., 185.,  65., 127., 236.,  93.,  48., 215., 121., 275., 245.,\n",
              "        55.])"
            ]
          },
          "metadata": {},
          "execution_count": 152
        }
      ]
    },
    {
      "cell_type": "code",
      "source": [
        "y_pred"
      ],
      "metadata": {
        "colab": {
          "base_uri": "https://localhost:8080/"
        },
        "id": "2JHquAwJ99Ft",
        "outputId": "ff73013e-30f8-4e54-bc22-f7d1ec2617e7"
      },
      "execution_count": null,
      "outputs": [
        {
          "output_type": "execute_result",
          "data": {
            "text/plain": [
              "array([ 53.10052886, 134.57149584, 108.18009441,  79.4572534 ,\n",
              "       255.58118434, 129.60428151, 162.83214095, 107.3988554 ,\n",
              "       101.93036148, 163.48475031, 185.56519867, 147.92629076,\n",
              "       198.97442611, 166.19346225, 166.27433726, 116.84828222,\n",
              "       117.08296249, 140.80667523, 180.09831616,  89.27283029,\n",
              "       285.84467953,  96.83237074, 197.61696088, 123.35419662,\n",
              "        79.13577062, 185.8598474 , 218.082152  ,  39.90988933,\n",
              "       260.23005531, 130.27417586, 223.44945781, 146.60387662,\n",
              "       162.90801921,  52.15636952, 118.93823451, 120.90293423,\n",
              "       129.27470272,  99.03390942, 166.34553304, 114.41828974,\n",
              "       177.77224508, 196.26063058,  83.25297271, 181.93422452,\n",
              "       118.09349522,  96.21147984, 194.80365201, 229.84671963,\n",
              "       233.98366077, 110.80613553, 148.42529515,  84.38271315,\n",
              "       214.94353819,  53.85072529, 152.39917748, 141.68011682,\n",
              "       159.22190835, 127.0579976 , 178.61821898, 153.42052971,\n",
              "       120.16780133,  55.3020852 , 156.63179518, 225.91145661,\n",
              "        96.48516944, 125.22487703, 187.46672876, 151.11856207,\n",
              "        99.39030512, 165.22269514, 293.50202176, 205.58922344,\n",
              "       172.50586647, 223.22222135, 153.86139976, 224.38220787,\n",
              "       104.15293286, 170.57242723, 296.13128605, 135.60526333,\n",
              "       193.36652211,  96.0499091 , 135.07313867,  93.52716607,\n",
              "       154.65499988,  65.68510984,  77.03902815, 208.03467566,\n",
              "       118.69763515, 173.38942625, 211.28436968,  96.27376322,\n",
              "        58.58623949, 166.41117306,  40.44761868, 234.90768877,\n",
              "       107.5805617 ,  93.37478091, 208.14611066, 176.70597722,\n",
              "       165.6513958 ,  77.42789459, 169.60046957, 232.01740211,\n",
              "       139.4320409 ,  44.73043527, 243.72386341, 167.70965506,\n",
              "       250.93440636, 262.38234747,  68.67073836])"
            ]
          },
          "metadata": {},
          "execution_count": 153
        }
      ]
    },
    {
      "cell_type": "code",
      "source": [
        "metrics.mean_absolute_error(y_test, y_pred)"
      ],
      "metadata": {
        "colab": {
          "base_uri": "https://localhost:8080/"
        },
        "id": "fohiQcTN-BFt",
        "outputId": "0f064aa6-75ad-4d8a-bbb7-66c49083f491"
      },
      "execution_count": null,
      "outputs": [
        {
          "output_type": "execute_result",
          "data": {
            "text/plain": [
              "41.902410572830746"
            ]
          },
          "metadata": {},
          "execution_count": 154
        }
      ]
    },
    {
      "cell_type": "markdown",
      "source": [
        "Regressor mean absolute error = 41.9"
      ],
      "metadata": {
        "id": "rGBGkWJwDhZi"
      }
    },
    {
      "cell_type": "markdown",
      "source": [
        "# Regressor with test_size = 0,33"
      ],
      "metadata": {
        "id": "gx72jQ0NDtS9"
      }
    },
    {
      "cell_type": "code",
      "source": [
        "X_train_2, X_test_2, y_train_2, y_test_2 = train_test_split(X, y, test_size=0.33, shuffle=True)"
      ],
      "metadata": {
        "id": "-JIoEfRXDy22"
      },
      "execution_count": null,
      "outputs": []
    },
    {
      "cell_type": "code",
      "source": [
        "regressor_2 = LinearRegression().fit(X_train_2, y_train_2)"
      ],
      "metadata": {
        "id": "q_JTWAX0Dy-b"
      },
      "execution_count": null,
      "outputs": []
    },
    {
      "cell_type": "code",
      "source": [
        "regressor_2.score(X_test_2, y_test_2)"
      ],
      "metadata": {
        "colab": {
          "base_uri": "https://localhost:8080/"
        },
        "id": "PhqvyxbfDzBU",
        "outputId": "1cf171d7-9de4-4d5d-d32d-91168d7b8b9a"
      },
      "execution_count": null,
      "outputs": [
        {
          "output_type": "execute_result",
          "data": {
            "text/plain": [
              "0.4666780408550254"
            ]
          },
          "metadata": {},
          "execution_count": 157
        }
      ]
    },
    {
      "cell_type": "markdown",
      "source": [
        "Regressor score went down with test_size=0.33"
      ],
      "metadata": {
        "id": "Gel3mNXpEaZ2"
      }
    },
    {
      "cell_type": "code",
      "source": [
        "y_pred_2 = regressor_2.predict(X_test_2)"
      ],
      "metadata": {
        "id": "KDeAbkS6DzEl"
      },
      "execution_count": null,
      "outputs": []
    },
    {
      "cell_type": "code",
      "source": [
        "y_test_2"
      ],
      "metadata": {
        "colab": {
          "base_uri": "https://localhost:8080/"
        },
        "id": "tjCQyWDCDzHS",
        "outputId": "30e4ae40-eafc-4927-f71b-c005e1a07d4a"
      },
      "execution_count": null,
      "outputs": [
        {
          "output_type": "execute_result",
          "data": {
            "text/plain": [
              "array([220., 288.,  55., 185., 233., 144., 208., 265., 190.,  65., 262.,\n",
              "       161., 132., 116., 259., 140., 268., 118.,  68., 212., 142., 233.,\n",
              "       280.,  68., 141., 232., 143., 259., 252.,  70.,  85., 261.,  60.,\n",
              "       274.,  78., 152., 127.,  93., 153., 109.,  96., 308., 200., 242.,\n",
              "       199.,  75.,  54., 150., 131., 192.,  64.,  91., 241., 109., 129.,\n",
              "       104.,  49., 135., 102.,  84., 175., 120., 160., 178., 158., 202.,\n",
              "       152., 141.,  65., 236.,  83., 162.,  50.,  83., 150.,  95., 118.,\n",
              "       200., 200.,  68., 167.,  90.,  63., 163.,  53., 310., 259., 346.,\n",
              "       263., 237.,  89., 136., 206., 156.,  40., 216.,  78., 128., 202.,\n",
              "       220., 235., 198., 128.,  91., 166., 124., 310.,  69., 180., 104.,\n",
              "       195.,  67., 174.,  86.,  96.,  93., 264., 143., 132.,  44., 158.,\n",
              "        59., 179., 225., 126.,  58., 265., 230.,  49., 243.,  88., 172.,\n",
              "       219., 252., 276., 185., 268., 113.,  69., 168.,  78., 220., 237.,\n",
              "       181., 178.,  63.])"
            ]
          },
          "metadata": {},
          "execution_count": 159
        }
      ]
    },
    {
      "cell_type": "code",
      "source": [
        "y_pred_2"
      ],
      "metadata": {
        "colab": {
          "base_uri": "https://localhost:8080/"
        },
        "id": "0FW2PlmQDzSz",
        "outputId": "b377b902-931e-443d-f403-ed6175e6bc2f"
      },
      "execution_count": null,
      "outputs": [
        {
          "output_type": "execute_result",
          "data": {
            "text/plain": [
              "array([201.61251977, 204.76628445,  70.71360625, 140.86396931,\n",
              "       201.83345514, 179.70905546, 229.95072683, 196.50384726,\n",
              "       175.34015195, 128.62548711, 159.7236546 , 190.64712143,\n",
              "       119.51331238,  48.88207691, 160.46783282, 171.71532617,\n",
              "       234.21246636, 154.5620123 , 118.21541236, 194.35599567,\n",
              "       103.59087559, 263.99811919, 232.85313577, 200.93495228,\n",
              "       168.63558061, 227.29682593, 171.96488338, 218.658613  ,\n",
              "       253.11174729,  59.86572074,  57.52373294, 228.56015889,\n",
              "        70.83247748, 251.46220242,  55.39879603, 244.75548353,\n",
              "       111.01831733,  79.6146235 , 112.91936086, 182.36678223,\n",
              "       120.50241065, 268.52522146, 156.1858595 , 303.81218054,\n",
              "       103.65860632,  71.72209268,  93.52983167, 207.73185015,\n",
              "       153.34714336, 224.26416605,  85.55576073,  89.06918322,\n",
              "       205.22077705, 105.18515851, 188.97053763, 158.98168315,\n",
              "       130.0480245 , 126.47123065,  82.15662595, 186.46118822,\n",
              "       185.5957125 , 166.57478232, 116.82670051, 193.66310215,\n",
              "        92.49703163, 210.77778862, 103.59846855, 161.79865771,\n",
              "        48.64757046, 232.55461207, 137.28437976, 121.45865088,\n",
              "       139.74207653,  67.86850751, 121.72353343, 152.99075144,\n",
              "        96.68865428, 144.20472019, 112.64676675, 115.82308124,\n",
              "       180.76627308, 135.2185809 , 124.27904449, 215.04921448,\n",
              "        99.545893  , 274.20132383, 239.04348525, 266.87827156,\n",
              "       262.45725037, 219.24896214, 114.28235073, 143.97469358,\n",
              "       158.28638916, 153.62820586, 127.62404438, 171.81338187,\n",
              "       185.30666023,  72.32063504, 149.17984635, 213.7438368 ,\n",
              "       169.94244285, 206.22929818,  99.21330661, 156.33672805,\n",
              "       210.96788423, 171.02640535, 263.83218059, 100.09650606,\n",
              "       221.80608839, 104.88740725, 236.21408172, 128.82451878,\n",
              "       171.16892378, 152.82039916,  83.24635589, 139.91976166,\n",
              "       245.02380343,  65.60700817, 250.37419851, 125.41938365,\n",
              "        70.79889759, 136.64080442, 110.19699605, 163.66936694,\n",
              "       180.74688142, 164.87317619, 205.92977447, 138.93908614,\n",
              "        92.06735177, 258.56346791, 139.29592399, 142.53361929,\n",
              "       135.10583052, 158.54334451, 150.86558831, 156.24583813,\n",
              "       209.75964521,  97.53837381, 114.46987083, 141.59652003,\n",
              "       117.9565114 , 264.32241488, 157.01886566,  81.86543303,\n",
              "       121.17406215, 103.31031921])"
            ]
          },
          "metadata": {},
          "execution_count": 160
        }
      ]
    },
    {
      "cell_type": "code",
      "source": [
        "metrics.mean_absolute_error(y_test_2, y_pred_2)"
      ],
      "metadata": {
        "colab": {
          "base_uri": "https://localhost:8080/"
        },
        "id": "p0T0AKOBD6wZ",
        "outputId": "59d90b6e-b3fc-497e-cf60-b7c5bf3f7515"
      },
      "execution_count": null,
      "outputs": [
        {
          "output_type": "execute_result",
          "data": {
            "text/plain": [
              "44.37702238420008"
            ]
          },
          "metadata": {},
          "execution_count": 161
        }
      ]
    },
    {
      "cell_type": "markdown",
      "source": [
        "Regressor mean absolute error is greater with test_size=0.33"
      ],
      "metadata": {
        "id": "dakm1kiDEhNr"
      }
    }
  ]
}