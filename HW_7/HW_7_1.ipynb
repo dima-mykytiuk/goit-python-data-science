{
  "nbformat": 4,
  "nbformat_minor": 0,
  "metadata": {
    "colab": {
      "provenance": []
    },
    "kernelspec": {
      "name": "python3",
      "display_name": "Python 3"
    },
    "language_info": {
      "name": "python"
    }
  },
  "cells": [
    {
      "cell_type": "code",
      "execution_count": null,
      "metadata": {
        "id": "T6JXSQXnCUWl"
      },
      "outputs": [],
      "source": [
        "from sklearn.datasets import load_wine\n",
        "from sklearn.multiclass import OneVsRestClassifier\n",
        "from sklearn.svm import SVC\n",
        "from sklearn.model_selection import train_test_split"
      ]
    },
    {
      "cell_type": "code",
      "source": [
        "X, y = load_wine(return_X_y=True)"
      ],
      "metadata": {
        "id": "IysFQCplDnIE"
      },
      "execution_count": null,
      "outputs": []
    },
    {
      "cell_type": "markdown",
      "source": [
        "# Classifier with default test_size(0.25)"
      ],
      "metadata": {
        "id": "i87KbY5Xm7fV"
      }
    },
    {
      "cell_type": "code",
      "source": [
        "X_train, X_test, y_train, y_test = train_test_split(X, y, shuffle=True)"
      ],
      "metadata": {
        "id": "XMRbjkOFDOtm"
      },
      "execution_count": null,
      "outputs": []
    },
    {
      "cell_type": "code",
      "source": [
        "clf = OneVsRestClassifier(SVC()).fit(X_train, y_train)\n",
        "clf.score(X_test,y_test)"
      ],
      "metadata": {
        "colab": {
          "base_uri": "https://localhost:8080/"
        },
        "id": "oSalQsZZFFqJ",
        "outputId": "471f054a-7aa0-4bca-dc2a-d7314cdb952b"
      },
      "execution_count": null,
      "outputs": [
        {
          "output_type": "execute_result",
          "data": {
            "text/plain": [
              "0.7111111111111111"
            ]
          },
          "metadata": {},
          "execution_count": 16
        }
      ]
    },
    {
      "cell_type": "code",
      "source": [
        "y_pred = clf.predict(X_test)"
      ],
      "metadata": {
        "id": "o6pGO82bK7De"
      },
      "execution_count": null,
      "outputs": []
    },
    {
      "cell_type": "markdown",
      "source": [
        "Comparing prediction with test data"
      ],
      "metadata": {
        "id": "7BhhjwPWgbz-"
      }
    },
    {
      "cell_type": "code",
      "source": [
        "(y_pred == y_test)"
      ],
      "metadata": {
        "colab": {
          "base_uri": "https://localhost:8080/"
        },
        "id": "wt--5qVMLACR",
        "outputId": "8ccf0e5c-0928-4634-c654-b86cae653774"
      },
      "execution_count": null,
      "outputs": [
        {
          "output_type": "execute_result",
          "data": {
            "text/plain": [
              "array([ True, False,  True,  True,  True,  True, False,  True,  True,\n",
              "        True, False,  True,  True, False,  True, False,  True,  True,\n",
              "        True,  True,  True,  True,  True,  True,  True,  True,  True,\n",
              "       False, False,  True, False, False, False,  True,  True,  True,\n",
              "       False,  True,  True, False, False,  True,  True,  True,  True])"
            ]
          },
          "metadata": {},
          "execution_count": 18
        }
      ]
    },
    {
      "cell_type": "code",
      "source": [
        "y_test.shape - (y_pred == y_test).sum()"
      ],
      "metadata": {
        "colab": {
          "base_uri": "https://localhost:8080/"
        },
        "id": "8l-gvlbSnBGb",
        "outputId": "d2ca18cd-14b5-43e5-ba55-21dd4dfdcd23"
      },
      "execution_count": null,
      "outputs": [
        {
          "output_type": "execute_result",
          "data": {
            "text/plain": [
              "array([13])"
            ]
          },
          "metadata": {},
          "execution_count": 19
        }
      ]
    },
    {
      "cell_type": "markdown",
      "source": [
        "13 predictions are wrong"
      ],
      "metadata": {
        "id": "rvj8bUvwnlCS"
      }
    },
    {
      "cell_type": "markdown",
      "source": [
        "# Classifier with test size 0.66"
      ],
      "metadata": {
        "id": "MQrQfLT4gUAH"
      }
    },
    {
      "cell_type": "code",
      "source": [
        "X_train_2, X_test_2, y_train_2, y_test_2 = train_test_split(X, y, test_size = 0.66, shuffle=True)"
      ],
      "metadata": {
        "id": "I824zhaLNbta"
      },
      "execution_count": null,
      "outputs": []
    },
    {
      "cell_type": "code",
      "source": [
        "clf_2 = OneVsRestClassifier(SVC()).fit(X_train_2, y_train_2)\n",
        "clf_2.score(X,y)"
      ],
      "metadata": {
        "colab": {
          "base_uri": "https://localhost:8080/"
        },
        "id": "2k8dRCafNmk2",
        "outputId": "8edc1f0d-be02-4e91-d585-20858d29d7b7"
      },
      "execution_count": null,
      "outputs": [
        {
          "output_type": "execute_result",
          "data": {
            "text/plain": [
              "0.6853932584269663"
            ]
          },
          "metadata": {},
          "execution_count": 21
        }
      ]
    },
    {
      "cell_type": "markdown",
      "source": [
        "Score went down"
      ],
      "metadata": {
        "id": "3P_lYZgwhXS0"
      }
    },
    {
      "cell_type": "code",
      "source": [
        "y_pred_2 = clf_2.predict(X_test_2)"
      ],
      "metadata": {
        "id": "M_bS32qdNmok"
      },
      "execution_count": null,
      "outputs": []
    },
    {
      "cell_type": "markdown",
      "source": [
        "Comparing prediction with test data"
      ],
      "metadata": {
        "id": "_-rCbdW4g3iL"
      }
    },
    {
      "cell_type": "code",
      "source": [
        "(y_pred_2 == y_test_2)"
      ],
      "metadata": {
        "colab": {
          "base_uri": "https://localhost:8080/"
        },
        "id": "1at1fmz9NmtY",
        "outputId": "cf471f0b-9f5f-4206-e95f-995eb5c73d53"
      },
      "execution_count": null,
      "outputs": [
        {
          "output_type": "execute_result",
          "data": {
            "text/plain": [
              "array([False, False,  True,  True, False, False,  True,  True,  True,\n",
              "        True, False, False, False,  True,  True,  True,  True,  True,\n",
              "        True,  True, False,  True, False,  True, False,  True,  True,\n",
              "        True,  True, False,  True,  True,  True,  True, False,  True,\n",
              "        True,  True, False,  True,  True,  True,  True,  True,  True,\n",
              "        True,  True, False,  True, False,  True,  True, False,  True,\n",
              "        True,  True,  True,  True,  True,  True,  True,  True,  True,\n",
              "       False, False,  True,  True,  True,  True,  True,  True,  True,\n",
              "        True,  True,  True, False,  True,  True,  True,  True,  True,\n",
              "        True,  True, False, False, False,  True,  True, False,  True,\n",
              "        True,  True, False, False,  True,  True,  True, False, False,\n",
              "       False, False, False,  True, False,  True,  True, False, False,\n",
              "        True,  True, False,  True,  True, False,  True,  True,  True,\n",
              "        True])"
            ]
          },
          "metadata": {},
          "execution_count": 23
        }
      ]
    },
    {
      "cell_type": "code",
      "source": [
        "y_test_2.shape - (y_pred_2 == y_test_2).sum()"
      ],
      "metadata": {
        "colab": {
          "base_uri": "https://localhost:8080/"
        },
        "id": "NglqD7eGnxPZ",
        "outputId": "879871dc-0b79-487f-d500-8ba52e94941f"
      },
      "execution_count": null,
      "outputs": [
        {
          "output_type": "execute_result",
          "data": {
            "text/plain": [
              "array([35])"
            ]
          },
          "metadata": {},
          "execution_count": 24
        }
      ]
    },
    {
      "cell_type": "markdown",
      "source": [
        "35 predictions are wrong"
      ],
      "metadata": {
        "id": "8EG06U2moE_X"
      }
    }
  ]
}