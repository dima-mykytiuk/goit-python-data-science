{
  "nbformat": 4,
  "nbformat_minor": 0,
  "metadata": {
    "colab": {
      "provenance": []
    },
    "kernelspec": {
      "name": "python3",
      "display_name": "Python 3"
    },
    "language_info": {
      "name": "python"
    },
    "accelerator": "GPU",
    "gpuClass": "standard"
  },
  "cells": [
    {
      "cell_type": "code",
      "execution_count": null,
      "metadata": {
        "id": "Usk4fet6Sjpg"
      },
      "outputs": [],
      "source": [
        "import keras\n",
        "import numpy as np\n",
        "import matplotlib.pyplot as plt\n",
        "from keras.datasets import fashion_mnist\n",
        "from keras.models import Sequential\n",
        "from keras.layers import Dense, Flatten, Dropout\n",
        "from keras import layers\n",
        "from tensorflow.keras.utils import to_categorical\n",
        "import tensorflow as tf\n",
        "from keras.applications.vgg16 import VGG16\n",
        "from PIL import Image"
      ]
    },
    {
      "cell_type": "code",
      "source": [
        "(x_train, y_train), (x_test, y_test) = fashion_mnist.load_data()"
      ],
      "metadata": {
        "id": "UJIxzm0RS6C-"
      },
      "execution_count": null,
      "outputs": []
    },
    {
      "cell_type": "code",
      "source": [
        "x_train=np.dstack([x_train] * 3)\n",
        "x_test=np.dstack([x_test]*3)\n",
        "x_test = x_test.reshape(-1, 28,28,3)\n",
        "x_train = x_train.reshape(-1, 28,28,3)\n",
        "print(x_train.shape, x_test.shape)"
      ],
      "metadata": {
        "colab": {
          "base_uri": "https://localhost:8080/"
        },
        "id": "-D2pucbfe88w",
        "outputId": "73195fa0-76e0-44dc-8427-5909b97d7421"
      },
      "execution_count": null,
      "outputs": [
        {
          "output_type": "stream",
          "name": "stdout",
          "text": [
            "(60000, 28, 28, 3) (10000, 28, 28, 3)\n"
          ]
        }
      ]
    },
    {
      "cell_type": "code",
      "source": [
        "def reshape_img(data, img_size):\n",
        "  step = 0\n",
        "  new_data = []\n",
        "  for item in range(len(data)):\n",
        "    image = Image.fromarray(data[step]).resize((img_size, img_size), Image.BILINEAR)\n",
        "    image = np.asarray(image)\n",
        "    new_data.append(image)\n",
        "    step+=1\n",
        "  new_data = np.array(new_data)\n",
        "  return new_data"
      ],
      "metadata": {
        "id": "ZPqsoAo2ccNg"
      },
      "execution_count": null,
      "outputs": []
    },
    {
      "cell_type": "code",
      "source": [
        "x_train = reshape_img(x_train, 48)\n",
        "x_test = reshape_img(x_test, 48)"
      ],
      "metadata": {
        "id": "FLECoFQmc-av"
      },
      "execution_count": null,
      "outputs": []
    },
    {
      "cell_type": "code",
      "source": [
        "x_train = x_train / 255\n",
        "x_test = x_test / 255\n",
        "\n",
        "y_train = to_categorical(y_train, 10)\n",
        "y_test = to_categorical(y_test, 10)"
      ],
      "metadata": {
        "id": "STXUvUr6ruwm"
      },
      "execution_count": null,
      "outputs": []
    },
    {
      "cell_type": "code",
      "source": [
        "conv_base = VGG16(weights=\"imagenet\", include_top=False, input_shape=[48, 48] + [3])\n",
        "conv_base.trainable = True\n",
        "\n",
        "model = Sequential([\n",
        "   conv_base,\n",
        "   layers.Flatten(),\n",
        "   layers.Dense(256, activation=\"relu\"),\n",
        "   layers.Dense(128, activation=\"relu\"),\n",
        "   layers.Dropout(0.5),\n",
        "   layers.Dense(10, activation=\"sigmoid\"),\n",
        "])\n",
        "\n",
        "model.compile(\n",
        "    optimizer='Adam',\n",
        "    loss=tf.losses.CategoricalCrossentropy(),\n",
        "    metrics=['accuracy']\n",
        ")"
      ],
      "metadata": {
        "id": "BUlFHh0KTdgS"
      },
      "execution_count": null,
      "outputs": []
    },
    {
      "cell_type": "code",
      "source": [
        "conv_base.summary()"
      ],
      "metadata": {
        "colab": {
          "base_uri": "https://localhost:8080/"
        },
        "id": "zWy56nevTlEs",
        "outputId": "7fd83f8f-5147-49f4-ac6c-d0bb2cda584d"
      },
      "execution_count": null,
      "outputs": [
        {
          "output_type": "stream",
          "name": "stdout",
          "text": [
            "Model: \"vgg16\"\n",
            "_________________________________________________________________\n",
            " Layer (type)                Output Shape              Param #   \n",
            "=================================================================\n",
            " input_1 (InputLayer)        [(None, 48, 48, 3)]       0         \n",
            "                                                                 \n",
            " block1_conv1 (Conv2D)       (None, 48, 48, 64)        1792      \n",
            "                                                                 \n",
            " block1_conv2 (Conv2D)       (None, 48, 48, 64)        36928     \n",
            "                                                                 \n",
            " block1_pool (MaxPooling2D)  (None, 24, 24, 64)        0         \n",
            "                                                                 \n",
            " block2_conv1 (Conv2D)       (None, 24, 24, 128)       73856     \n",
            "                                                                 \n",
            " block2_conv2 (Conv2D)       (None, 24, 24, 128)       147584    \n",
            "                                                                 \n",
            " block2_pool (MaxPooling2D)  (None, 12, 12, 128)       0         \n",
            "                                                                 \n",
            " block3_conv1 (Conv2D)       (None, 12, 12, 256)       295168    \n",
            "                                                                 \n",
            " block3_conv2 (Conv2D)       (None, 12, 12, 256)       590080    \n",
            "                                                                 \n",
            " block3_conv3 (Conv2D)       (None, 12, 12, 256)       590080    \n",
            "                                                                 \n",
            " block3_pool (MaxPooling2D)  (None, 6, 6, 256)         0         \n",
            "                                                                 \n",
            " block4_conv1 (Conv2D)       (None, 6, 6, 512)         1180160   \n",
            "                                                                 \n",
            " block4_conv2 (Conv2D)       (None, 6, 6, 512)         2359808   \n",
            "                                                                 \n",
            " block4_conv3 (Conv2D)       (None, 6, 6, 512)         2359808   \n",
            "                                                                 \n",
            " block4_pool (MaxPooling2D)  (None, 3, 3, 512)         0         \n",
            "                                                                 \n",
            " block5_conv1 (Conv2D)       (None, 3, 3, 512)         2359808   \n",
            "                                                                 \n",
            " block5_conv2 (Conv2D)       (None, 3, 3, 512)         2359808   \n",
            "                                                                 \n",
            " block5_conv3 (Conv2D)       (None, 3, 3, 512)         2359808   \n",
            "                                                                 \n",
            " block5_pool (MaxPooling2D)  (None, 1, 1, 512)         0         \n",
            "                                                                 \n",
            "=================================================================\n",
            "Total params: 14,714,688\n",
            "Trainable params: 14,714,688\n",
            "Non-trainable params: 0\n",
            "_________________________________________________________________\n"
          ]
        }
      ]
    },
    {
      "cell_type": "code",
      "source": [
        "set_trainable = False\n",
        "\n",
        "for layer in conv_base.layers:\n",
        "    if layer.name == \"block5_conv1\":\n",
        "        set_trainable = True\n",
        "    if set_trainable:\n",
        "        layer.trainable = True\n",
        "    else:\n",
        "        layer.trainable = False"
      ],
      "metadata": {
        "id": "lJXi8Nmi8Knc"
      },
      "execution_count": null,
      "outputs": []
    },
    {
      "cell_type": "code",
      "source": [
        "x_val = x_train[:30000]\n",
        "partial_x_train = x_train[30000:]\n",
        "\n",
        "y_val = y_train[:30000]\n",
        "partial_y_train = y_train[30000:]"
      ],
      "metadata": {
        "id": "BH6QZcBDTpvb"
      },
      "execution_count": null,
      "outputs": []
    },
    {
      "cell_type": "code",
      "source": [
        "history = model.fit(\n",
        "    partial_x_train,\n",
        "    partial_y_train,\n",
        "    epochs=15,\n",
        "    batch_size=64,\n",
        "    validation_data=(x_val, y_val)\n",
        ")"
      ],
      "metadata": {
        "colab": {
          "base_uri": "https://localhost:8080/"
        },
        "id": "yCyx_kiITrwZ",
        "outputId": "f695854e-872c-4e54-fdf4-6446f433978c"
      },
      "execution_count": null,
      "outputs": [
        {
          "output_type": "stream",
          "name": "stdout",
          "text": [
            "Epoch 1/15\n",
            "469/469 [==============================] - 53s 87ms/step - loss: 1.4174 - accuracy: 0.4466 - val_loss: 0.8001 - val_accuracy: 0.6923\n",
            "Epoch 2/15\n",
            "469/469 [==============================] - 38s 82ms/step - loss: 0.7115 - accuracy: 0.7303 - val_loss: 0.5634 - val_accuracy: 0.7860\n",
            "Epoch 3/15\n",
            "469/469 [==============================] - 39s 83ms/step - loss: 0.5879 - accuracy: 0.7882 - val_loss: 0.4896 - val_accuracy: 0.8290\n",
            "Epoch 4/15\n",
            "469/469 [==============================] - 39s 82ms/step - loss: 0.4773 - accuracy: 0.8351 - val_loss: 0.4317 - val_accuracy: 0.8508\n",
            "Epoch 5/15\n",
            "469/469 [==============================] - 39s 83ms/step - loss: 0.4534 - accuracy: 0.8444 - val_loss: 0.3947 - val_accuracy: 0.8554\n",
            "Epoch 6/15\n",
            "469/469 [==============================] - 39s 83ms/step - loss: 0.4018 - accuracy: 0.8633 - val_loss: 0.3775 - val_accuracy: 0.8666\n",
            "Epoch 7/15\n",
            "469/469 [==============================] - 39s 83ms/step - loss: 0.6537 - accuracy: 0.7909 - val_loss: 0.4417 - val_accuracy: 0.8436\n",
            "Epoch 8/15\n",
            "469/469 [==============================] - 40s 85ms/step - loss: 0.4086 - accuracy: 0.8577 - val_loss: 0.3698 - val_accuracy: 0.8668\n",
            "Epoch 9/15\n",
            "469/469 [==============================] - 39s 83ms/step - loss: 0.3647 - accuracy: 0.8739 - val_loss: 0.3678 - val_accuracy: 0.8650\n",
            "Epoch 10/15\n",
            "469/469 [==============================] - 39s 83ms/step - loss: 0.3363 - accuracy: 0.8818 - val_loss: 0.3366 - val_accuracy: 0.8784\n",
            "Epoch 11/15\n",
            "469/469 [==============================] - 40s 85ms/step - loss: 0.3632 - accuracy: 0.8762 - val_loss: 0.4186 - val_accuracy: 0.8564\n",
            "Epoch 12/15\n",
            "469/469 [==============================] - 39s 83ms/step - loss: 0.3207 - accuracy: 0.8875 - val_loss: 0.3331 - val_accuracy: 0.8869\n",
            "Epoch 13/15\n",
            "469/469 [==============================] - 39s 83ms/step - loss: 0.3130 - accuracy: 0.8912 - val_loss: 0.3650 - val_accuracy: 0.8740\n",
            "Epoch 14/15\n",
            "469/469 [==============================] - 39s 83ms/step - loss: 0.3106 - accuracy: 0.8929 - val_loss: 0.3125 - val_accuracy: 0.8897\n",
            "Epoch 15/15\n",
            "469/469 [==============================] - 39s 83ms/step - loss: 0.3006 - accuracy: 0.8949 - val_loss: 0.3210 - val_accuracy: 0.8862\n"
          ]
        }
      ]
    },
    {
      "cell_type": "code",
      "source": [
        "scores = model.evaluate(x_test, y_test)"
      ],
      "metadata": {
        "colab": {
          "base_uri": "https://localhost:8080/"
        },
        "id": "U9Hf9-rV-KFu",
        "outputId": "e1f9db8d-4614-445f-95d6-5e0ee81b030f"
      },
      "execution_count": null,
      "outputs": [
        {
          "output_type": "stream",
          "name": "stdout",
          "text": [
            "313/313 [==============================] - 5s 16ms/step - loss: 0.3473 - accuracy: 0.8807\n"
          ]
        }
      ]
    },
    {
      "cell_type": "code",
      "source": [
        "plt.imshow(x_test[0].reshape(48, 48, 3), cmap=plt.cm.binary)\n",
        "plt.show()"
      ],
      "metadata": {
        "colab": {
          "base_uri": "https://localhost:8080/",
          "height": 267
        },
        "id": "xYdZfjY0Eyne",
        "outputId": "c8108361-afdf-470a-872a-de08b8a8ac86"
      },
      "execution_count": null,
      "outputs": [
        {
          "output_type": "display_data",
          "data": {
            "text/plain": [
              "<Figure size 432x288 with 1 Axes>"
            ],
            "image/png": "[encoded data removed]"
          },
          "metadata": {
            "needs_background": "light"
          }
        }
      ]
    },
    {
      "cell_type": "code",
      "source": [
        "image = x_test[0]\n",
        "image = (np.expand_dims(image,0))\n",
        "image.shape"
      ],
      "metadata": {
        "colab": {
          "base_uri": "https://localhost:8080/"
        },
        "id": "_hVUF_Q0E6iS",
        "outputId": "fd15f1fe-6325-4dcc-b721-1851d50c6a52"
      },
      "execution_count": null,
      "outputs": [
        {
          "output_type": "execute_result",
          "data": {
            "text/plain": [
              "(1, 48, 48, 3)"
            ]
          },
          "metadata": {},
          "execution_count": 15
        }
      ]
    },
    {
      "cell_type": "code",
      "source": [
        "predictions = model.predict(image)\n",
        "predictions"
      ],
      "metadata": {
        "colab": {
          "base_uri": "https://localhost:8080/"
        },
        "id": "A0ANuXEwFFoS",
        "outputId": "ea37b5fb-608a-42d8-cca2-2b7b41a06c40"
      },
      "execution_count": null,
      "outputs": [
        {
          "output_type": "execute_result",
          "data": {
            "text/plain": [
              "array([[2.2185899e-10, 3.9814001e-08, 2.1213595e-13, 4.9191958e-06,\n",
              "        1.3237873e-11, 3.8051215e-01, 8.2959639e-10, 9.9270028e-01,\n",
              "        4.0189693e-15, 9.9999988e-01]], dtype=float32)"
            ]
          },
          "metadata": {},
          "execution_count": 16
        }
      ]
    },
    {
      "cell_type": "code",
      "source": [
        "prediction = predictions[0]\n",
        "np.argmax(prediction)"
      ],
      "metadata": {
        "colab": {
          "base_uri": "https://localhost:8080/"
        },
        "id": "yEtrkfhjFIdL",
        "outputId": "79535b9a-d054-413b-f486-269f13b72ecc"
      },
      "execution_count": null,
      "outputs": [
        {
          "output_type": "execute_result",
          "data": {
            "text/plain": [
              "9"
            ]
          },
          "metadata": {},
          "execution_count": 17
        }
      ]
    },
    {
      "cell_type": "code",
      "source": [
        "history_dict = history.history\n",
        "loss_values = history_dict['loss']\n",
        "val_loss_values = history_dict['val_loss']\n",
        "\n",
        "epochs = range(1, len(history_dict['accuracy']) + 1)\n",
        "\n",
        "plt.plot(epochs, loss_values, 'bo', label='Training loss')\n",
        "plt.plot(epochs, val_loss_values, 'b', label='Validation loss')\n",
        "plt.title('Training and validation loss')\n",
        "plt.xlabel('Epochs')\n",
        "plt.ylabel('Loss')\n",
        "plt.legend()\n",
        "plt.show()\n",
        "\n",
        "plt.clf()\n",
        "val_acc_values = history_dict['val_accuracy']\n",
        "plt.plot(epochs, history_dict['accuracy'], 'bo', label='Training acc')\n",
        "plt.plot(epochs, history_dict['val_accuracy'], 'b', label='Validation acc')\n",
        "plt.title('Training and validation accuracy')\n",
        "plt.xlabel('Epochs')\n",
        "plt.ylabel('Loss')\n",
        "plt.legend()"
      ],
      "metadata": {
        "colab": {
          "base_uri": "https://localhost:8080/",
          "height": 590
        },
        "id": "P_FbketwFK4m",
        "outputId": "c698164b-522a-440c-bafc-6298cc374eff"
      },
      "execution_count": null,
      "outputs": [
        {
          "output_type": "display_data",
          "data": {
            "text/plain": [
              "<Figure size 432x288 with 1 Axes>"
            ],
            "image/png": "[encoded data removed]"
          },
          "metadata": {
            "needs_background": "light"
          }
        },
        {
          "output_type": "execute_result",
          "data": {
            "text/plain": [
              "<matplotlib.legend.Legend at 0x7f7dc01e4950>"
            ]
          },
          "metadata": {},
          "execution_count": 18
        },
        {
          "output_type": "display_data",
          "data": {
            "text/plain": [
              "<Figure size 432x288 with 1 Axes>"
            ],
            "image/png": "[encoded data removed]"
          },
          "metadata": {
            "needs_background": "light"
          }
        }
      ]
    }
  ]
}