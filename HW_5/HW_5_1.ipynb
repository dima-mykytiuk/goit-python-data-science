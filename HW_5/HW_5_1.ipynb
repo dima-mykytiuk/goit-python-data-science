{
 "cells": [
  {
   "cell_type": "code",
   "execution_count": 1,
   "id": "30d12d75",
   "metadata": {},
   "outputs": [],
   "source": [
    "from scipy.optimize import minimize"
   ]
  },
  {
   "cell_type": "code",
   "execution_count": 2,
   "id": "b39f131e",
   "metadata": {},
   "outputs": [],
   "source": [
    "def fun(args):\n",
    "    x, y = args\n",
    "    return 2 * x + y"
   ]
  },
  {
   "cell_type": "code",
   "execution_count": 3,
   "id": "dec81869",
   "metadata": {},
   "outputs": [],
   "source": [
    "xbounds = (0, None)\n",
    "ybounds = (0, None)\n",
    "bounds = (xbounds, ybounds)\n",
    "cons = ({'type': 'eq', 'fun': lambda x:  x[0] * x[1] - 1000})\n",
    "result = minimize(fun,  (0, 1000), bounds = bounds, constraints = cons)"
   ]
  },
  {
   "cell_type": "code",
   "execution_count": 4,
   "id": "e0bad39d",
   "metadata": {},
   "outputs": [
    {
     "data": {
      "text/plain": [
       "     fun: 89.4427190995034\n",
       "     jac: array([2., 1.])\n",
       " message: 'Optimization terminated successfully'\n",
       "    nfev: 95\n",
       "     nit: 29\n",
       "    njev: 29\n",
       "  status: 0\n",
       " success: True\n",
       "       x: array([22.3606812 , 44.72135669])"
      ]
     },
     "execution_count": 4,
     "metadata": {},
     "output_type": "execute_result"
    }
   ],
   "source": [
    "result"
   ]
  }
 ],
 "metadata": {
  "kernelspec": {
   "display_name": "Python 3",
   "language": "python",
   "name": "python3"
  },
  "language_info": {
   "codemirror_mode": {
    "name": "ipython",
    "version": 3
   },
   "file_extension": ".py",
   "mimetype": "text/x-python",
   "name": "python",
   "nbconvert_exporter": "python",
   "pygments_lexer": "ipython3",
   "version": "3.8.8"
  }
 },
 "nbformat": 4,
 "nbformat_minor": 5
}
