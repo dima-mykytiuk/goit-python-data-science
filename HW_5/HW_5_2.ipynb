{
 "cells": [
  {
   "cell_type": "code",
   "execution_count": 1,
   "id": "bfaf97f5",
   "metadata": {},
   "outputs": [],
   "source": [
    "import numpy as np\n",
    "import matplotlib.pyplot as plt\n",
    "from scipy.optimize import leastsq, minimize_scalar\n",
    "from scipy.integrate import solve_ivp"
   ]
  },
  {
   "cell_type": "code",
   "execution_count": 2,
   "id": "1ad3e0a5",
   "metadata": {},
   "outputs": [],
   "source": [
    "a = 0.5\n",
    "b = 0.3\n",
    "N = 1000000\n",
    "S0 = 990000\n",
    "I0 = 7000\n",
    "R0 = 3000\n",
    "t0 = 0\n",
    "tf = 25"
   ]
  },
  {
   "cell_type": "code",
   "execution_count": 3,
   "id": "2af8621e",
   "metadata": {},
   "outputs": [],
   "source": [
    "def dsdt(t, s):\n",
    "    return - a * s\n",
    "\n",
    "soln = solve_ivp(dsdt, (t0, tf), [S0], dense_output=True)\n",
    "t, s = soln.t, soln.y[0]"
   ]
  },
  {
   "cell_type": "code",
   "execution_count": 4,
   "id": "0c899445",
   "metadata": {},
   "outputs": [],
   "source": [
    "def s_t(t,s0,a):\n",
    "    return S0 * np.exp(-a * t)"
   ]
  },
  {
   "cell_type": "code",
   "execution_count": 5,
   "id": "c046c24e",
   "metadata": {},
   "outputs": [],
   "source": [
    "def f_s(p,y,t):\n",
    "    a, S0  = p\n",
    "    return s - s_t(t, S0, a)"
   ]
  },
  {
   "cell_type": "code",
   "execution_count": 6,
   "id": "e6557b7a",
   "metadata": {},
   "outputs": [
    {
     "name": "stdout",
     "output_type": "stream",
     "text": [
      "[4.99868029e-01 9.90000000e+05]\n"
     ]
    }
   ],
   "source": [
    "parameters_1 = a,S0\n",
    "res_s = leastsq(f_s, parameters_1, args=(s, t))\n",
    "print(res_s[0])"
   ]
  },
  {
   "cell_type": "code",
   "execution_count": 7,
   "id": "c773a513",
   "metadata": {},
   "outputs": [],
   "source": [
    "def didt(t, i):\n",
    "    return a * soln.sol(t) - b * i\n",
    "\n",
    "soln_i = solve_ivp(didt, (t0, tf), [R0], dense_output=True)\n",
    "\n",
    "t, i = soln_i.t, soln_i.y[0]"
   ]
  },
  {
   "cell_type": "code",
   "execution_count": 8,
   "id": "9ec94702",
   "metadata": {},
   "outputs": [],
   "source": [
    "def i_t(t,I0,S0,a):\n",
    "    return (I0 + a * S0 * t) * np.exp(-a * t)"
   ]
  },
  {
   "cell_type": "code",
   "execution_count": 9,
   "id": "c285edfb",
   "metadata": {},
   "outputs": [],
   "source": [
    "def f_i(p,y,t):\n",
    "    a, S0, I0  = p\n",
    "    return i - i_t(t, I0 ,S0 ,a)"
   ]
  },
  {
   "cell_type": "code",
   "execution_count": 10,
   "id": "0f47d5be",
   "metadata": {},
   "outputs": [
    {
     "name": "stdout",
     "output_type": "stream",
     "text": [
      "[3.84053319e-01 1.25203084e+06 4.17754645e+03]\n"
     ]
    }
   ],
   "source": [
    "parameters_2 = a, S0, I0\n",
    "res_i = leastsq(f_i, parameters_2, args=(i, t))\n",
    "print(res_i[0])"
   ]
  },
  {
   "cell_type": "code",
   "execution_count": 11,
   "id": "bfcbec11",
   "metadata": {},
   "outputs": [],
   "source": [
    "def drdt(t, _):\n",
    "    return b * soln_i.sol(t)\n",
    "\n",
    "\n",
    "soln_r = solve_ivp(drdt, (t0, tf), [R0], dense_output=True)\n",
    "t, r = soln_r.t, soln_r.y[0]"
   ]
  },
  {
   "cell_type": "code",
   "execution_count": 12,
   "id": "14813c88",
   "metadata": {},
   "outputs": [],
   "source": [
    "def r_t(t,S0,I0,a,N):\n",
    "    return N - s_t(t,S0,a) - i_t(t,I0,S0,a)"
   ]
  },
  {
   "cell_type": "code",
   "execution_count": 13,
   "id": "ce5f900c",
   "metadata": {},
   "outputs": [],
   "source": [
    "def f_r(p,y,t):\n",
    "    a,S0,I0,R0  = p\n",
    "    return r - r_t(t,S0,I0,a,N)"
   ]
  },
  {
   "cell_type": "code",
   "execution_count": 14,
   "id": "1a9ffaa5",
   "metadata": {},
   "outputs": [
    {
     "name": "stdout",
     "output_type": "stream",
     "text": [
      "[3.68708522e-01 9.61373142e+05 8.24328495e+03 3.00000000e+03]\n"
     ]
    }
   ],
   "source": [
    "parameters_3 = a,S0,I0,R0 \n",
    "res_r = leastsq(f_r, parameters_3 , args=(r, t))\n",
    "print(res_r[0])"
   ]
  },
  {
   "cell_type": "code",
   "execution_count": 15,
   "id": "f12ff883",
   "metadata": {},
   "outputs": [
    {
     "data": {
      "image/png": "[encoded data removed]",
      "text/plain": [
       "<Figure size 432x288 with 1 Axes>"
      ]
     },
     "metadata": {
      "needs_background": "light"
     },
     "output_type": "display_data"
    }
   ],
   "source": [
    "t = np.linspace(t0,tf,N)\n",
    "y_p =  s_t(t,S0,a)\n",
    "yi_p =  i_t(t,I0,S0,a)\n",
    "yr_p = N - y_p -  yi_p\n",
    "plt.plot(t, y_p, 'b', label = 'S(t)')\n",
    "plt.plot(t, yi_p, 'r', label = 'I(t)')\n",
    "plt.plot(t, yr_p, 'g', label = 'R(t)')\n",
    "plt.title('S(t), I(t), R(t)',size = 15, color = 'b')\n",
    "plt.xlabel('Time(t)') \n",
    "plt.grid()\n",
    "plt.legend()\n",
    "plt.show()"
   ]
  },
  {
   "cell_type": "code",
   "execution_count": 16,
   "id": "5b7cb809",
   "metadata": {},
   "outputs": [
    {
     "data": {
      "text/plain": [
       "1.9858585752092015"
      ]
     },
     "execution_count": 16,
     "metadata": {},
     "output_type": "execute_result"
    }
   ],
   "source": [
    "res = minimize_scalar(lambda x: -i_t(x,I0,S0,a))\n",
    "res.x"
   ]
  }
 ],
 "metadata": {
  "kernelspec": {
   "display_name": "Python 3",
   "language": "python",
   "name": "python3"
  },
  "language_info": {
   "codemirror_mode": {
    "name": "ipython",
    "version": 3
   },
   "file_extension": ".py",
   "mimetype": "text/x-python",
   "name": "python",
   "nbconvert_exporter": "python",
   "pygments_lexer": "ipython3",
   "version": "3.8.8"
  }
 },
 "nbformat": 4,
 "nbformat_minor": 5
}
